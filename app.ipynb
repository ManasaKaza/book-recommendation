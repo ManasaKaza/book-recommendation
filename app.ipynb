{
 "cells": [
  {
   "cell_type": "code",
   "execution_count": 41,
   "id": "3005d32b",
   "metadata": {},
   "outputs": [],
   "source": [
    "from flask import Flask,render_template,request\n",
    "import pickle\n",
    "import numpy as np"
   ]
  },
  {
   "cell_type": "code",
   "execution_count": 42,
   "id": "2082da27",
   "metadata": {},
   "outputs": [],
   "source": [
    "popular_df = pickle.load(open('popular.pkl','rb'))\n",
    "pt = pickle.load(open('pt.pkl','rb'))\n",
    "books = pickle.load(open('books.pkl','rb'))\n",
    "similarity_scores = pickle.load(open('similarity_scores.pkl','rb'))"
   ]
  },
  {
   "cell_type": "code",
   "execution_count": 43,
   "id": "d61dc10a",
   "metadata": {},
   "outputs": [],
   "source": [
    "app = Flask(__name__)"
   ]
  },
  {
   "cell_type": "code",
   "execution_count": 44,
   "id": "84d0abe7",
   "metadata": {},
   "outputs": [],
   "source": [
    "@app.route('/')\n",
    "def index():\n",
    "    return render_template('index.html',\n",
    "                           book_name = list(popular_df['Book-Title'].values),\n",
    "                           author=list(popular_df['Book-Author'].values),\n",
    "                           image=list(popular_df['Image-URL-M'].values),\n",
    "                           votes=list(popular_df['num_ratings'].values),\n",
    "                           rating=list(popular_df['avg_rating'].values)\n",
    "                           )"
   ]
  },
  {
   "cell_type": "code",
   "execution_count": 45,
   "id": "0abbe42e",
   "metadata": {},
   "outputs": [],
   "source": [
    "@app.route('/recommend')\n",
    "def recommend_ui():\n",
    "    return render_template('recommend.html')"
   ]
  },
  {
   "cell_type": "code",
   "execution_count": 46,
   "id": "3b52f9cb",
   "metadata": {},
   "outputs": [],
   "source": [
    "@app.route('/recommend_books',methods=['post'])\n",
    "def recommend():\n",
    "    user_input = request.form.get('user_input')\n",
    "    index = np.where(pt.index == user_input)[0][0]\n",
    "    similar_items = sorted(list(enumerate(similarity_scores[index])), key=lambda x: x[1], reverse=True)[1:5]\n",
    "\n",
    "    data = []\n",
    "    for i in similar_items:\n",
    "        item = []\n",
    "        temp_df = books[books['Book-Title'] == pt.index[i[0]]]\n",
    "        item.extend(list(temp_df.drop_duplicates('Book-Title')['Book-Title'].values))\n",
    "        item.extend(list(temp_df.drop_duplicates('Book-Title')['Book-Author'].values))\n",
    "        item.extend(list(temp_df.drop_duplicates('Book-Title')['Image-URL-M'].values))\n",
    "\n",
    "        data.append(item)\n",
    "\n",
    "    print(data)\n",
    "\n",
    "    return render_template('recommend.html',data=data)"
   ]
  },
  {
   "cell_type": "code",
   "execution_count": null,
   "id": "f2f8bbea",
   "metadata": {},
   "outputs": [
    {
     "name": "stdout",
     "output_type": "stream",
     "text": [
      " * Serving Flask app '__main__'\n",
      " * Debug mode: on\n"
     ]
    },
    {
     "name": "stderr",
     "output_type": "stream",
     "text": [
      "WARNING: This is a development server. Do not use it in a production deployment. Use a production WSGI server instead.\n",
      " * Running on http://127.0.0.1:5000\n",
      "Press CTRL+C to quit\n",
      "127.0.0.1 - - [06/Feb/2024 23:32:48] \"GET / HTTP/1.1\" 200 -\n"
     ]
    }
   ],
   "source": [
    "if __name__ == '__main__':\n",
    "    app.run(debug=True, use_reloader=False)"
   ]
  },
  {
   "cell_type": "code",
   "execution_count": null,
   "id": "cef155a1",
   "metadata": {},
   "outputs": [],
   "source": []
  }
 ],
 "metadata": {
  "kernelspec": {
   "display_name": "Python 3 (ipykernel)",
   "language": "python",
   "name": "python3"
  },
  "language_info": {
   "codemirror_mode": {
    "name": "ipython",
    "version": 3
   },
   "file_extension": ".py",
   "mimetype": "text/x-python",
   "name": "python",
   "nbconvert_exporter": "python",
   "pygments_lexer": "ipython3",
   "version": "3.9.13"
  }
 },
 "nbformat": 4,
 "nbformat_minor": 5
}
